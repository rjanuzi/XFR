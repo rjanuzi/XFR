{
    "cells": [
        {
            "cell_type": "code",
            "execution_count": null,
            "metadata": {},
            "outputs": [],
            "source": [
                "import numpy as np\n",
                "from random import choices\n",
                "\n",
                "from dataset import get_file_path, DATASET_KIND_ALIGNED\n",
                "from gen_distances_matrix_dlib import get_names_to_calculate\n",
                "from fr.face_decomposition import decompose_face, decompose_face_no_blank\n",
                "from fr.face_decomposition import (\n",
                "    get_ears,\n",
                "    get_eyebrows,\n",
                "    get_eyes,\n",
                "    get_eyes_and_eyebrows,\n",
                "    get_eyes_and_nose,\n",
                "    get_face,\n",
                "    get_full_face,\n",
                "    get_left_ear,\n",
                "    get_left_eye,\n",
                "    get_left_eyebrow,\n",
                "    get_lower_lip,\n",
                "    get_mouth,\n",
                "    get_mouth_and_nose,\n",
                "    get_nose,\n",
                "    get_right_ear,\n",
                "    get_right_eye,\n",
                "    get_rigth_eyebrow,\n",
                "    get_upper_lip,\n",
                ")\n",
                "\n",
                "from PIL import Image\n",
                "\n",
                "import matplotlib.pyplot as plt\n",
                "from mpl_toolkits.axes_grid1 import ImageGrid\n",
                "import tensorflow as tf"
            ]
        },
        {
            "cell_type": "code",
            "execution_count": null,
            "metadata": {},
            "outputs": [],
            "source": [
                "imgs_names = get_names_to_calculate()\n",
                "\n",
                "aligned_imgs_paths = [\n",
                "    get_file_path(img_name, dataset_kind=DATASET_KIND_ALIGNED)\n",
                "    for img_name in imgs_names\n",
                "]\n",
                "\n",
                "sample_img = aligned_imgs_paths[0]\n",
                "name_1 = sample_img.stem"
            ]
        },
        {
            "cell_type": "code",
            "execution_count": null,
            "metadata": {},
            "outputs": [],
            "source": [
                "\n",
                "img_names = [p.stem for p in aligned_imgs_paths[:20]]\n",
                "face_parts = [decompose_face_no_blank(img) for img in img_names]\n",
                "ROWS = len(img_names)\n",
                "COLS = max([len(face_part) for face_part in face_parts])\n",
                "\n",
                "fig = plt.figure(figsize=(40., 30.))\n",
                "grid = ImageGrid(fig, 111,  # similar to subplot(111)\n",
                "                 nrows_ncols=(ROWS, COLS),\n",
                "                 axes_pad=0,  # pad between axes in inch.\n",
                "                 share_all=True,\n",
                "                 )\n",
                "grid[0].get_yaxis().set_ticks([])\n",
                "grid[0].get_xaxis().set_ticks([])\n",
                "\n",
                "imgs = []\n",
                "for i in range(ROWS):\n",
                "    for j in range(COLS):\n",
                "        try:\n",
                "            tmp_face_part = face_parts[i][j]\n",
                "            if tmp_face_part is None:\n",
                "                imgs.append(np.zeros([128,128,3],dtype=np.float32))\n",
                "            else:\n",
                "                imgs.append(tmp_face_part)\n",
                "        except KeyError:\n",
                "            imgs.append(np.zeros([128,128,3],dtype=np.float32))\n",
                "\n",
                "for ax, im in zip(grid, imgs):\n",
                "    ax.imshow(im)"
            ]
        }
    ],
    "metadata": {
        "kernelspec": {
            "display_name": "Python 3.9.12 ('tf2_resnet')",
            "language": "python",
            "name": "python3"
        },
        "language_info": {
            "codemirror_mode": {
                "name": "ipython",
                "version": 3
            },
            "file_extension": ".py",
            "mimetype": "text/x-python",
            "name": "python",
            "nbconvert_exporter": "python",
            "pygments_lexer": "ipython3",
            "version": "3.9.12 (main, Apr  4 2022, 05:22:27) [MSC v.1916 64 bit (AMD64)]"
        },
        "orig_nbformat": 4,
        "vscode": {
            "interpreter": {
                "hash": "599a4db38103377133a9d21b7d02324d7e7685cce2f1b75d4c68b493ddfcf076"
            }
        }
    },
    "nbformat": 4,
    "nbformat_minor": 2
}
