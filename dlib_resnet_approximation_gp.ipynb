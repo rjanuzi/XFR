{
 "cells": [
  {
   "cell_type": "markdown",
   "metadata": {},
   "source": [
    "# Face Recognition (FR) - DLIB ResNET Approximation with Genetic Programming"
   ]
  },
  {
   "cell_type": "code",
   "execution_count": null,
   "metadata": {},
   "outputs": [],
   "source": [
    "import pandas as pd\n",
    "import json\n",
    "import matplotlib.pyplot as plt\n",
    "import numpy as np\n",
    "from math import inf\n",
    "from pathlib import Path\n",
    "import seaborn as sns\n",
    "\n",
    "from random import random, seed, randint\n",
    "import operator\n",
    "from time import time\n",
    "\n",
    "from deap import algorithms\n",
    "from deap import base\n",
    "from deap import creator\n",
    "from deap import tools\n",
    "from deap import gp\n",
    "\n",
    "from util._telegram import send_simple_message"
   ]
  },
  {
   "cell_type": "markdown",
   "metadata": {},
   "source": [
    "### Prepare data and generate extra information"
   ]
  },
  {
   "cell_type": "code",
   "execution_count": null,
   "metadata": {},
   "outputs": [],
   "source": [
    "DLIB_DISTANCES_FILE = Path(\"fr\", \"distances_dlib.json\")\n",
    "RESNET_DISTANCES_FILE = Path(\"fr\", \"distances_resnet.json\")\n",
    "RESNET_FACEPARTS_DISTANCES_FILE = Path(\"fr\", \"distances_resnet_faceparts.json\")\n",
    "\n",
    "BEST_INDIVIDUAL_FILE = Path(\"fr\", \"best_combination_runs\", \"gp_dlib_resnet_best_comb_0002.json\")\n",
    "BEST_INDIVIDUALS_FILE = Path(\"fr\", \"best_combination_runs\",\"gp_dlib_resnet_best_combs_0002.json\")"
   ]
  },
  {
   "cell_type": "code",
   "execution_count": null,
   "metadata": {},
   "outputs": [],
   "source": [
    "# Load distances from raw files into dataframes\n",
    "\n",
    "# DLIB Distances ( <pair>: {'dlib': distance}} )\n",
    "tmp_raw_data = json.load(open(DLIB_DISTANCES_FILE, \"r\"))\n",
    "dlib_distances = pd.DataFrame(dict(pair=tmp_raw_data.keys(), dlib_distance=(d['dlib'] for d in tmp_raw_data.values())))\n",
    "del tmp_raw_data\n",
    "\n",
    "# ResNET Faceparts Distances\n",
    "def rows_generator(resnet_faceparts_raw_data):\n",
    "    for pair, distances in resnet_faceparts_raw_data.items():\n",
    "        distances.update({'pair': pair})\n",
    "        yield distances\n",
    "\n",
    "tmp_raw_data = json.load(open(RESNET_FACEPARTS_DISTANCES_FILE, \"r\"))\n",
    "generator = rows_generator(tmp_raw_data)\n",
    "del tmp_raw_data\n",
    "\n",
    "resnet_faceparts_distances = pd.DataFrame(generator)\n",
    "\n",
    "# Join distances into a sigle dataframe\n",
    "distances = dlib_distances.merge(resnet_faceparts_distances, on='pair', how='outer')\n",
    "\n",
    "del dlib_distances\n",
    "del resnet_faceparts_distances\n",
    "\n",
    "# Filter only images with \"n\" (from VGGFACE2)\n",
    "distances = distances[distances.pair.apply(lambda p: \"n\" in p)]\n",
    "\n",
    "# Generate extra columns\n",
    "distances[\"img1\"] = distances.pair.apply(lambda p: p.split(\" x \")[0])\n",
    "distances[\"img2\"] = distances.pair.apply(lambda p: p.split(\" x \")[1])\n",
    "distances[\"person1\"] = distances.img1.apply(lambda p: p.split(\"_\")[0])\n",
    "distances[\"person2\"] = distances.img2.apply(lambda p: p.split(\"_\")[0])\n",
    "distances[\"same_person\"] = (distances.person1 == distances.person2).apply(lambda s: \"same\" if s else \"different\")\n",
    "\n",
    "# Delete unnecessary columns\n",
    "distances.drop(columns='pair', inplace=True)"
   ]
  },
  {
   "cell_type": "markdown",
   "metadata": {},
   "source": [
    "### Genetic Programming (GP) Search"
   ]
  },
  {
   "cell_type": "code",
   "execution_count": null,
   "metadata": {},
   "outputs": [],
   "source": [
    "RESNET_COLS_TO_IGNORE = [\"resnet_left_ear\", \"resnet_right_ear\", \"resnet_ears\", \"resnet_full_face\"]\n",
    "\n",
    "# Individuals representation\n",
    "resnet_cols = list(filter(lambda c: ('resnet' in c) and (c not in RESNET_COLS_TO_IGNORE), distances.columns))\n",
    "\n",
    "IND_SIZE = len(resnet_cols)"
   ]
  },
  {
   "cell_type": "code",
   "execution_count": null,
   "metadata": {},
   "outputs": [],
   "source": [
    "SUB_SET_SIZE = 1000000  # Number of distances to consider\n",
    "CXPB = 0.5  # Probability with which two individuals are crossed\n",
    "MUTPB = 0.25 # Probability for mutating an individual\n",
    "POP_SIZE = 200\n",
    "HALL_OF_FAME_SIZE = 10\n",
    "MAX_GENERATIONS = 30"
   ]
  },
  {
   "cell_type": "code",
   "execution_count": null,
   "metadata": {},
   "outputs": [],
   "source": [
    "cleared_distances = distances.replace(inf, np.nan)\n",
    "cleared_distances.dropna(inplace=True)\n",
    "# cleared_distances = cleared_distances[cleared_distances.dlib_distance > 0.01].reset_index(drop=True)\n",
    "cleared_distances = cleared_distances[cleared_distances.img1 != cleared_distances.img2] # Remove same image pairs\n",
    "cleared_distances.sort_values(by='dlib_distance', ascending=True, inplace=True)\n",
    "\n",
    "# TODO - Change the subseting to be more intelligent\n",
    "sub_df = cleared_distances.iloc[:SUB_SET_SIZE]\n",
    "\n",
    "# Normalize distances\n",
    "sub_df = sub_df.loc[:, resnet_cols + [\"dlib_distance\"]] # Get numerical columns to nomrlize\n",
    "for col in sub_df.columns:\n",
    "    sub_df[col] = (sub_df[col]-sub_df[col].min())/(sub_df[col].max()-sub_df[col].min())\n",
    "\n",
    "resnet_distances_norm = sub_df.loc[:, resnet_cols]"
   ]
  },
  {
   "cell_type": "code",
   "execution_count": null,
   "metadata": {},
   "outputs": [],
   "source": [
    "# Define new functions\n",
    "def protectedDiv(left, right):\n",
    "    try:\n",
    "        return left / right\n",
    "    except ZeroDivisionError:\n",
    "        return 1\n",
    "\n",
    "pset = gp.PrimitiveSet(\"MAIN\", IND_SIZE)\n",
    "pset.addPrimitive(operator.add, 2)\n",
    "pset.addPrimitive(operator.sub, 2)\n",
    "pset.addPrimitive(operator.mul, 2)\n",
    "pset.addPrimitive(protectedDiv, 2)\n",
    "pset.addPrimitive(operator.neg, 1)\n",
    "# TODO - Adicionar mais operadores\n",
    "\n",
    "# pset.addPrimitive(math.cos, 1)\n",
    "# pset.addPrimitive(math.sin, 1)\n",
    "pset.addEphemeralConstant(\"rand101\", lambda: randint(-1,1))"
   ]
  },
  {
   "cell_type": "code",
   "execution_count": null,
   "metadata": {},
   "outputs": [],
   "source": [
    "creator.create(\"FitnessMin\", base.Fitness, weights=(-1.0,)) # Error (minimize)\n",
    "creator.create(\"Individual\", gp.PrimitiveTree, fitness=creator.FitnessMin)\n",
    "\n",
    "toolbox = base.Toolbox()\n",
    "toolbox.register(\"expr\", gp.genHalfAndHalf, pset=pset, min_=1, max_=2)\n",
    "toolbox.register(\"individual\", tools.initIterate, creator.Individual, toolbox.expr)\n",
    "toolbox.register(\"population\", tools.initRepeat, list, toolbox.individual)\n",
    "toolbox.register(\"compile\", gp.compile, pset=pset)\n",
    "\n",
    "def eval_individual_error_gp(individual):\n",
    "    func = toolbox.compile(expr=individual)\n",
    "\n",
    "    def apply_func(row):\n",
    "        return func(*row)\n",
    "\n",
    "    sub_df.loc[:, 'combination'] = resnet_distances_norm.apply(apply_func, axis=1, raw=True)\n",
    "    sub_df.loc[:, 'error'] = sub_df.combination - sub_df.dlib_distance\n",
    "    sub_df.loc[:, 'sqr_error'] = sub_df.error**2\n",
    "\n",
    "    # return (sub_df[sub_df.sqr_error != inf].sqr_error.mean(),) # Shall return a tuple for compatibility with DEAP\n",
    "    return (sub_df[sub_df.sqr_error != inf].sqr_error.sum(),) # Shall return a tuple for compatibility with DEAP\n",
    "\n",
    "toolbox.register(\"evaluate\", eval_individual_error_gp)\n",
    "toolbox.register(\"select\", tools.selTournament, tournsize=3)\n",
    "toolbox.register(\"mate\", gp.cxOnePoint)\n",
    "toolbox.register(\"expr_mut\", gp.genFull, min_=0, max_=2)\n",
    "toolbox.register(\"mutate\", gp.mutUniform, expr=toolbox.expr_mut, pset=pset)\n",
    "\n",
    "toolbox.decorate(\"mate\", gp.staticLimit(key=operator.attrgetter(\"height\"), max_value=17))\n",
    "toolbox.decorate(\"mutate\", gp.staticLimit(key=operator.attrgetter(\"height\"), max_value=17))\n",
    "\n",
    "seed(318)\n",
    "\n",
    "pop = toolbox.population(n=POP_SIZE)\n",
    "hof = tools.HallOfFame(HALL_OF_FAME_SIZE)\n",
    "\n",
    "stats_fit = tools.Statistics(lambda ind: ind.fitness.values)\n",
    "stats_size = tools.Statistics(len)\n",
    "mstats = tools.MultiStatistics(fitness=stats_fit, size=stats_size)\n",
    "mstats.register(\"avg\", np.mean)\n",
    "mstats.register(\"std\", np.std)\n",
    "mstats.register(\"min\", np.min)\n",
    "mstats.register(\"max\", np.max)\n",
    "\n",
    "start_time = time()\n",
    "\n",
    "pop, log = algorithms.eaSimple(pop, toolbox, CXPB, MUTPB, MAX_GENERATIONS, stats=mstats,\n",
    "                            halloffame=hof, verbose=True)\n",
    "\n",
    "end_time = time()\n",
    "print(f\"GP finished in {int((end_time - start_time)/60)} minutes\")\n",
    "_ = send_simple_message(f\"GP finished in {int((end_time - start_time)/60)} minutes\")"
   ]
  },
  {
   "cell_type": "code",
   "execution_count": null,
   "metadata": {},
   "outputs": [],
   "source": [
    "best = hof[0]\n",
    "best_tree = gp.PrimitiveTree(best)\n",
    "str(best_tree)"
   ]
  },
  {
   "cell_type": "code",
   "execution_count": null,
   "metadata": {},
   "outputs": [],
   "source": [
    "pop_fitness = pd.DataFrame(dict(pop_fitness=np.array([i.fitness.values[0] for i in pop])))\n",
    "sns.lineplot(data=pop_fitness, x=pop_fitness.index, y='pop_fitness')"
   ]
  },
  {
   "cell_type": "code",
   "execution_count": null,
   "metadata": {},
   "outputs": [],
   "source": [
    "hof_fitness = pd.DataFrame(dict(hof_fitness=np.array([i.fitness.values[0] for i in hof])))\n",
    "sns.lineplot(data=hof_fitness, x=hof_fitness.index, y='hof_fitness')"
   ]
  }
 ],
 "metadata": {
  "kernelspec": {
   "display_name": "Python 3.9.12 ('tf2_resnet')",
   "language": "python",
   "name": "python3"
  },
  "language_info": {
   "codemirror_mode": {
    "name": "ipython",
    "version": 3
   },
   "file_extension": ".py",
   "mimetype": "text/x-python",
   "name": "python",
   "nbconvert_exporter": "python",
   "pygments_lexer": "ipython3",
   "version": "3.9.12"
  },
  "orig_nbformat": 4,
  "vscode": {
   "interpreter": {
    "hash": "599a4db38103377133a9d21b7d02324d7e7685cce2f1b75d4c68b493ddfcf076"
   }
  }
 },
 "nbformat": 4,
 "nbformat_minor": 2
}
