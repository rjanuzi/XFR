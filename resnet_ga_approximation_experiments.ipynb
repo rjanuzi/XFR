{
 "cells": [
  {
   "cell_type": "code",
   "execution_count": null,
   "metadata": {},
   "outputs": [],
   "source": [
    "import pandas as pd\n",
    "from pathlib import Path\n",
    "import seaborn as sns"
   ]
  },
  {
   "cell_type": "code",
   "execution_count": null,
   "metadata": {},
   "outputs": [],
   "source": [
    "EXPERIMENTS_FOLDER = Path(\"experiments\", \"20230403202210_results_nb\")\n",
    "EXPERIMENTS_RESULTS_FILE = EXPERIMENTS_FOLDER.joinpath(\"experiments_nb.csv\")"
   ]
  },
  {
   "cell_type": "code",
   "execution_count": null,
   "metadata": {},
   "outputs": [],
   "source": [
    "experiments_data = pd.read_csv(EXPERIMENTS_RESULTS_FILE)\n",
    "experiments_data[(experiments_data.best_generation > 1)].sort_values(by=[\"mean_rank\"], ascending=[False]).head(5)"
   ]
  },
  {
   "cell_type": "code",
   "execution_count": null,
   "metadata": {},
   "outputs": [],
   "source": [
    "sns.set(rc={\"figure.figsize\": (20,10)})\n",
    "fig = sns.boxplot(data=experiments_data[(experiments_data.error_function == 'rank_error')], x=\"error_function\", y=\"mean_rank\", hue=\"cluster\")"
   ]
  },
  {
   "cell_type": "code",
   "execution_count": null,
   "metadata": {},
   "outputs": [],
   "source": [
    "sns.set(rc={\"figure.figsize\": (20,10)})\n",
    "fig = sns.boxplot(data=experiments_data, x=\"error_function\", y=\"mean_rank\")"
   ]
  },
  {
   "cell_type": "code",
   "execution_count": null,
   "metadata": {},
   "outputs": [],
   "source": [
    "sns.set(rc={\"figure.figsize\": (20,10)})\n",
    "fig = sns.boxplot(data=experiments_data[experiments_data.best_generation > 1], x=\"error_function\", y=\"mean_rank\")"
   ]
  },
  {
   "cell_type": "code",
   "execution_count": null,
   "metadata": {},
   "outputs": [],
   "source": [
    "sns.set(rc={\"figure.figsize\": (20,10)})\n",
    "# fig = sns.lineplot(data=experiments_data[experiments_data.best_generation > 1], x=\"total_persons\", y=\"mean_rank\")\n",
    "# fig = sns.kdeplot(data=experiments_data, x=\"total_persons\", y=\"mean_rank\")\n",
    "fig = sns.histplot(data=experiments_data[experiments_data.best_generation > 1], x=\"total_persons\", y=\"mean_rank\")"
   ]
  }
 ],
 "metadata": {
  "kernelspec": {
   "display_name": "tf2_resnet",
   "language": "python",
   "name": "python3"
  },
  "language_info": {
   "codemirror_mode": {
    "name": "ipython",
    "version": 3
   },
   "file_extension": ".py",
   "mimetype": "text/x-python",
   "name": "python",
   "nbconvert_exporter": "python",
   "pygments_lexer": "ipython3",
   "version": "3.9.12"
  },
  "orig_nbformat": 4,
  "vscode": {
   "interpreter": {
    "hash": "599a4db38103377133a9d21b7d02324d7e7685cce2f1b75d4c68b493ddfcf076"
   }
  }
 },
 "nbformat": 4,
 "nbformat_minor": 2
}
