{
 "cells": [
  {
   "cell_type": "code",
   "execution_count": null,
   "metadata": {},
   "outputs": [],
   "source": [
    "import pandas as pd\n",
    "from pathlib import Path\n",
    "import seaborn as sns\n",
    "from string import ascii_letters\n",
    "import numpy as np\n",
    "import matplotlib.pyplot as plt"
   ]
  },
  {
   "cell_type": "code",
   "execution_count": null,
   "metadata": {},
   "outputs": [],
   "source": [
    "EXPERIMENTS_FOLDER = Path(\"experiments\", \"20230410175718_results_nb\")\n",
    "EXPERIMENTS_RESULTS_FILE = EXPERIMENTS_FOLDER.joinpath(\"experiments_nb.csv\")\n"
   ]
  },
  {
   "cell_type": "code",
   "execution_count": null,
   "metadata": {},
   "outputs": [],
   "source": [
    "experiments_data = pd.read_csv(EXPERIMENTS_RESULTS_FILE)\n",
    "experiments_data[(experiments_data.best_generation > 1)].sort_values(\n",
    "    by=[\"mean_rank\"], ascending=[False]\n",
    ").head(10)"
   ]
  },
  {
   "cell_type": "code",
   "execution_count": null,
   "metadata": {},
   "outputs": [],
   "source": [
    "sns.set_theme(style=\"white\")\n",
    "\n",
    "# Generate a large random dataset\n",
    "rs = np.random.RandomState(33)\n",
    "d = pd.DataFrame(data=rs.normal(size=(100, 26)), columns=list(ascii_letters[26:]))\n",
    "\n",
    "# Compute the correlation matrix\n",
    "corr = experiments_data[\n",
    "    [\n",
    "        \"total_pairs\",\n",
    "        \"total_persons\",\n",
    "        # \"cxpb\",\n",
    "        # \"mtpb\",\n",
    "        # \"indpb\",\n",
    "        \"pop_size\",\n",
    "        \"max_generations\",\n",
    "        # \"no_best_max_gens\",\n",
    "        \"best_generation\",\n",
    "        \"best_fitness\",\n",
    "        \"min_rank\",\n",
    "        \"max_rank\",\n",
    "        \"median_rank\",\n",
    "        \"mean_rank\",\n",
    "        \"exec_time_sec\",\n",
    "    ]\n",
    "].corr()\n",
    "\n",
    "# Generate a mask for the upper triangle\n",
    "mask = np.triu(np.ones_like(corr, dtype=bool))\n",
    "\n",
    "# Set up the matplotlib figure\n",
    "f, ax = plt.subplots(figsize=(15, 15))\n",
    "\n",
    "# Generate a custom diverging colormap\n",
    "cmap = sns.diverging_palette(230, 20, as_cmap=True)\n",
    "\n",
    "# Draw the heatmap with the mask and correct aspect ratio\n",
    "_ = sns.heatmap(\n",
    "    corr,\n",
    "    mask=mask,\n",
    "    cmap=cmap,\n",
    "    vmax=0.3,\n",
    "    center=0,\n",
    "    square=True,\n",
    "    linewidths=0.5,\n",
    "    cbar_kws={\"shrink\": 0.5},\n",
    ")"
   ]
  },
  {
   "cell_type": "code",
   "execution_count": null,
   "metadata": {},
   "outputs": [],
   "source": [
    "sns.set(rc={\"figure.figsize\": (30, 10)})\n",
    "fig = sns.boxplot(\n",
    "    data=experiments_data, x=\"error_function\", y=\"mean_rank\", hue=\"cluster\"\n",
    ")"
   ]
  },
  {
   "cell_type": "code",
   "execution_count": null,
   "metadata": {},
   "outputs": [],
   "source": [
    "sns.set(rc={\"figure.figsize\": (20, 10)})\n",
    "fig = sns.boxplot(data=experiments_data, x=\"error_function\", y=\"mean_rank\")"
   ]
  },
  {
   "cell_type": "code",
   "execution_count": null,
   "metadata": {},
   "outputs": [],
   "source": [
    "sns.set(rc={\"figure.figsize\": (20, 10)})\n",
    "fig = sns.boxplot(\n",
    "    data=experiments_data[experiments_data.best_generation > 1],\n",
    "    x=\"error_function\",\n",
    "    y=\"mean_rank\",\n",
    ")"
   ]
  },
  {
   "cell_type": "code",
   "execution_count": null,
   "metadata": {},
   "outputs": [],
   "source": [
    "sns.set(rc={\"figure.figsize\": (20, 10)})\n",
    "# fig = sns.lineplot(data=experiments_data[experiments_data.best_generation > 1], x=\"total_persons\", y=\"mean_rank\")\n",
    "# fig = sns.kdeplot(data=experiments_data, x=\"total_persons\", y=\"mean_rank\")\n",
    "fig = sns.histplot(\n",
    "    data=experiments_data[experiments_data.best_generation > 1],\n",
    "    x=\"total_persons\",\n",
    "    y=\"mean_rank\",\n",
    ")"
   ]
  }
 ],
 "metadata": {
  "kernelspec": {
   "display_name": "tf2_resnet",
   "language": "python",
   "name": "python3"
  },
  "language_info": {
   "codemirror_mode": {
    "name": "ipython",
    "version": 3
   },
   "file_extension": ".py",
   "mimetype": "text/x-python",
   "name": "python",
   "nbconvert_exporter": "python",
   "pygments_lexer": "ipython3",
   "version": "3.9.12"
  },
  "orig_nbformat": 4,
  "vscode": {
   "interpreter": {
    "hash": "599a4db38103377133a9d21b7d02324d7e7685cce2f1b75d4c68b493ddfcf076"
   }
  }
 },
 "nbformat": 4,
 "nbformat_minor": 2
}
